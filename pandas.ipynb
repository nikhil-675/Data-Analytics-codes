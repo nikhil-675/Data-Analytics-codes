{
 "cells": [
  {
   "cell_type": "markdown",
   "metadata": {},
   "source": [
    "<div style=\"background-color: #FFFFE0; padding: 10px; border: 1px solid #ddd;\">\n",
    "  <p style=\"color: #333333;\"><b>Create DataFrame</b></p>\n",
    "\n",
    "  <p style=\"color: #333333;\">\n",
    "  <ul style=\"color: #000000;\">Dict</ul>\n",
    "  <ul style=\"color: #000000;\">List of Lists</ul>\n",
    "  <ul style=\"color: #000000;\">List of dicts</ul>\n",
    "  <ul style=\"color: #000000;\">Numpy array</ul>\n",
    "  <ul style=\"color: #000000;\">Dict with nested lists</ul>\n",
    "  <ul style=\"color: #000000;\">Pandas Series</ul>\n",
    "  <ul style=\"color: #000000;\">List of Tuples</ul>\n",
    "  </p>\n",
    "</div>"
   ]
  },
  {
   "cell_type": "code",
   "execution_count": 44,
   "metadata": {},
   "outputs": [],
   "source": [
    "import pandas as pd\n",
    "import numpy as np"
   ]
  },
  {
   "cell_type": "code",
   "execution_count": 45,
   "metadata": {},
   "outputs": [
    {
     "data": {
      "text/html": [
       "<div>\n",
       "<style scoped>\n",
       "    .dataframe tbody tr th:only-of-type {\n",
       "        vertical-align: middle;\n",
       "    }\n",
       "\n",
       "    .dataframe tbody tr th {\n",
       "        vertical-align: top;\n",
       "    }\n",
       "\n",
       "    .dataframe thead th {\n",
       "        text-align: right;\n",
       "    }\n",
       "</style>\n",
       "<table border=\"1\" class=\"dataframe\">\n",
       "  <thead>\n",
       "    <tr style=\"text-align: right;\">\n",
       "      <th></th>\n",
       "      <th>Name</th>\n",
       "      <th>Age</th>\n",
       "    </tr>\n",
       "  </thead>\n",
       "  <tbody>\n",
       "    <tr>\n",
       "      <th>0</th>\n",
       "      <td>John</td>\n",
       "      <td>28</td>\n",
       "    </tr>\n",
       "    <tr>\n",
       "      <th>1</th>\n",
       "      <td>Anna</td>\n",
       "      <td>24</td>\n",
       "    </tr>\n",
       "    <tr>\n",
       "      <th>2</th>\n",
       "      <td>Peter</td>\n",
       "      <td>35</td>\n",
       "    </tr>\n",
       "  </tbody>\n",
       "</table>\n",
       "</div>"
      ],
      "text/plain": [
       "    Name  Age\n",
       "0   John   28\n",
       "1   Anna   24\n",
       "2  Peter   35"
      ]
     },
     "execution_count": 45,
     "metadata": {},
     "output_type": "execute_result"
    }
   ],
   "source": [
    "# ⁡⁢⁣⁣1. Dict⁡\n",
    "\n",
    "data = {\n",
    "    'Name': ['John', 'Anna', 'Peter'],\n",
    "    'Age': [28,24,35]\n",
    "}\n",
    "df = pd.DataFrame(data)\n",
    "df.head()\n"
   ]
  },
  {
   "cell_type": "code",
   "execution_count": 46,
   "metadata": {},
   "outputs": [
    {
     "data": {
      "text/html": [
       "<div>\n",
       "<style scoped>\n",
       "    .dataframe tbody tr th:only-of-type {\n",
       "        vertical-align: middle;\n",
       "    }\n",
       "\n",
       "    .dataframe tbody tr th {\n",
       "        vertical-align: top;\n",
       "    }\n",
       "\n",
       "    .dataframe thead th {\n",
       "        text-align: right;\n",
       "    }\n",
       "</style>\n",
       "<table border=\"1\" class=\"dataframe\">\n",
       "  <thead>\n",
       "    <tr style=\"text-align: right;\">\n",
       "      <th></th>\n",
       "      <th>Name</th>\n",
       "      <th>Age</th>\n",
       "    </tr>\n",
       "  </thead>\n",
       "  <tbody>\n",
       "    <tr>\n",
       "      <th>0</th>\n",
       "      <td>John</td>\n",
       "      <td>28</td>\n",
       "    </tr>\n",
       "    <tr>\n",
       "      <th>1</th>\n",
       "      <td>Anna</td>\n",
       "      <td>24</td>\n",
       "    </tr>\n",
       "    <tr>\n",
       "      <th>2</th>\n",
       "      <td>Peter</td>\n",
       "      <td>35</td>\n",
       "    </tr>\n",
       "  </tbody>\n",
       "</table>\n",
       "</div>"
      ],
      "text/plain": [
       "    Name  Age\n",
       "0   John   28\n",
       "1   Anna   24\n",
       "2  Peter   35"
      ]
     },
     "execution_count": 46,
     "metadata": {},
     "output_type": "execute_result"
    }
   ],
   "source": [
    "# 2. ⁡⁢⁣⁣List of lists⁡\n",
    "\n",
    "data = [[\"John\",28], [\"Anna\",24], [\"Peter\",35]]\n",
    "df = pd.DataFrame(data, columns=['Name', 'Age'])\n",
    "df.head()"
   ]
  },
  {
   "cell_type": "code",
   "execution_count": 47,
   "metadata": {},
   "outputs": [
    {
     "data": {
      "text/html": [
       "<div>\n",
       "<style scoped>\n",
       "    .dataframe tbody tr th:only-of-type {\n",
       "        vertical-align: middle;\n",
       "    }\n",
       "\n",
       "    .dataframe tbody tr th {\n",
       "        vertical-align: top;\n",
       "    }\n",
       "\n",
       "    .dataframe thead th {\n",
       "        text-align: right;\n",
       "    }\n",
       "</style>\n",
       "<table border=\"1\" class=\"dataframe\">\n",
       "  <thead>\n",
       "    <tr style=\"text-align: right;\">\n",
       "      <th></th>\n",
       "      <th>Values</th>\n",
       "    </tr>\n",
       "  </thead>\n",
       "  <tbody>\n",
       "    <tr>\n",
       "      <th>0</th>\n",
       "      <td>1</td>\n",
       "    </tr>\n",
       "    <tr>\n",
       "      <th>1</th>\n",
       "      <td>2</td>\n",
       "    </tr>\n",
       "    <tr>\n",
       "      <th>2</th>\n",
       "      <td>3</td>\n",
       "    </tr>\n",
       "    <tr>\n",
       "      <th>3</th>\n",
       "      <td>4</td>\n",
       "    </tr>\n",
       "    <tr>\n",
       "      <th>4</th>\n",
       "      <td>5</td>\n",
       "    </tr>\n",
       "  </tbody>\n",
       "</table>\n",
       "</div>"
      ],
      "text/plain": [
       "   Values\n",
       "0       1\n",
       "1       2\n",
       "2       3\n",
       "3       4\n",
       "4       5"
      ]
     },
     "execution_count": 47,
     "metadata": {},
     "output_type": "execute_result"
    }
   ],
   "source": [
    "# 5. Pandas Series\n",
    "\n",
    "series= pd.Series([1, 2, 3, 4, 5])\n",
    "df = series.to_frame('Values')\n",
    "df.head()"
   ]
  },
  {
   "cell_type": "code",
   "execution_count": 48,
   "metadata": {},
   "outputs": [
    {
     "data": {
      "text/html": [
       "<div>\n",
       "<style scoped>\n",
       "    .dataframe tbody tr th:only-of-type {\n",
       "        vertical-align: middle;\n",
       "    }\n",
       "\n",
       "    .dataframe tbody tr th {\n",
       "        vertical-align: top;\n",
       "    }\n",
       "\n",
       "    .dataframe thead th {\n",
       "        text-align: right;\n",
       "    }\n",
       "</style>\n",
       "<table border=\"1\" class=\"dataframe\">\n",
       "  <thead>\n",
       "    <tr style=\"text-align: right;\">\n",
       "      <th></th>\n",
       "      <th>Name</th>\n",
       "      <th>Scores</th>\n",
       "    </tr>\n",
       "  </thead>\n",
       "  <tbody>\n",
       "    <tr>\n",
       "      <th>0</th>\n",
       "      <td>John</td>\n",
       "      <td>[90, 80, 70]</td>\n",
       "    </tr>\n",
       "    <tr>\n",
       "      <th>1</th>\n",
       "      <td>Anna</td>\n",
       "      <td>[85, 95, 75]</td>\n",
       "    </tr>\n",
       "    <tr>\n",
       "      <th>2</th>\n",
       "      <td>Peter</td>\n",
       "      <td>[80, 75, 85]</td>\n",
       "    </tr>\n",
       "  </tbody>\n",
       "</table>\n",
       "</div>"
      ],
      "text/plain": [
       "    Name        Scores\n",
       "0   John  [90, 80, 70]\n",
       "1   Anna  [85, 95, 75]\n",
       "2  Peter  [80, 75, 85]"
      ]
     },
     "execution_count": 48,
     "metadata": {},
     "output_type": "execute_result"
    }
   ],
   "source": [
    "# 4. ⁡⁢⁣⁣Dict with Nested Lists⁡\n",
    "\n",
    "data = {'Name': ['John', 'Anna', 'Peter'],\n",
    "        'Scores': [[90, 80, 70], [85, 95, 75], [80, 75, 85]]}\n",
    "df = pd.DataFrame(data)\n",
    "\n",
    "df.head()"
   ]
  },
  {
   "cell_type": "code",
   "execution_count": 49,
   "metadata": {},
   "outputs": [
    {
     "data": {
      "text/html": [
       "<div>\n",
       "<style scoped>\n",
       "    .dataframe tbody tr th:only-of-type {\n",
       "        vertical-align: middle;\n",
       "    }\n",
       "\n",
       "    .dataframe tbody tr th {\n",
       "        vertical-align: top;\n",
       "    }\n",
       "\n",
       "    .dataframe thead th {\n",
       "        text-align: right;\n",
       "    }\n",
       "</style>\n",
       "<table border=\"1\" class=\"dataframe\">\n",
       "  <thead>\n",
       "    <tr style=\"text-align: right;\">\n",
       "      <th></th>\n",
       "      <th>A</th>\n",
       "      <th>B</th>\n",
       "      <th>C</th>\n",
       "    </tr>\n",
       "  </thead>\n",
       "  <tbody>\n",
       "    <tr>\n",
       "      <th>0</th>\n",
       "      <td>1</td>\n",
       "      <td>2</td>\n",
       "      <td>3</td>\n",
       "    </tr>\n",
       "    <tr>\n",
       "      <th>1</th>\n",
       "      <td>4</td>\n",
       "      <td>5</td>\n",
       "      <td>6</td>\n",
       "    </tr>\n",
       "  </tbody>\n",
       "</table>\n",
       "</div>"
      ],
      "text/plain": [
       "   A  B  C\n",
       "0  1  2  3\n",
       "1  4  5  6"
      ]
     },
     "execution_count": 49,
     "metadata": {},
     "output_type": "execute_result"
    }
   ],
   "source": [
    "# 3. ⁡⁢⁣⁣Numpy Arrays⁡\n",
    "\n",
    "data = np.array([[1,2,3], [4,5,6]])\n",
    "df = pd.DataFrame(data, columns=['A', 'B', 'C'])\n",
    "df.head()"
   ]
  },
  {
   "cell_type": "code",
   "execution_count": 50,
   "metadata": {},
   "outputs": [
    {
     "data": {
      "text/plain": [
       "Index(['A', 'B', 'C'], dtype='object')"
      ]
     },
     "execution_count": 50,
     "metadata": {},
     "output_type": "execute_result"
    }
   ],
   "source": [
    "df.columns"
   ]
  },
  {
   "cell_type": "code",
   "execution_count": 51,
   "metadata": {},
   "outputs": [
    {
     "name": "stderr",
     "output_type": "stream",
     "text": [
      "/tmp/ipykernel_22166/1369880238.py:14: FutureWarning: use_inf_as_na option is deprecated and will be removed in a future version. Convert inf values to NaN before operating instead.\n",
      "  pd.set_option('mode.use_inf_as_na', True)\n"
     ]
    }
   ],
   "source": [
    "pd.set_option(\n",
    "    'display.max_rows',100\n",
    ")\n",
    "pd.set_option(\n",
    "    'display.max_columns',10\n",
    ")\n",
    "pd.set_option(\n",
    "    'display.float_format','{:.2f}'.format\n",
    ")\n",
    "pd.set_option(\n",
    "    'display.max_rows',100\n",
    ")\n",
    "pd.set_option('display.width', 150)\n",
    "pd.set_option('mode.use_inf_as_na', True)\n"
   ]
  },
  {
   "cell_type": "code",
   "execution_count": 52,
   "metadata": {},
   "outputs": [
    {
     "data": {
      "text/html": [
       "<div>\n",
       "<style scoped>\n",
       "    .dataframe tbody tr th:only-of-type {\n",
       "        vertical-align: middle;\n",
       "    }\n",
       "\n",
       "    .dataframe tbody tr th {\n",
       "        vertical-align: top;\n",
       "    }\n",
       "\n",
       "    .dataframe thead th {\n",
       "        text-align: right;\n",
       "    }\n",
       "</style>\n",
       "<table border=\"1\" class=\"dataframe\">\n",
       "  <thead>\n",
       "    <tr style=\"text-align: right;\">\n",
       "      <th></th>\n",
       "      <th>Name</th>\n",
       "      <th>Age</th>\n",
       "      <th>Salary</th>\n",
       "    </tr>\n",
       "  </thead>\n",
       "  <tbody>\n",
       "    <tr>\n",
       "      <th>0</th>\n",
       "      <td>Nikhil</td>\n",
       "      <td>22</td>\n",
       "      <td>1200000</td>\n",
       "    </tr>\n",
       "    <tr>\n",
       "      <th>1</th>\n",
       "      <td>Sandeep</td>\n",
       "      <td>24</td>\n",
       "      <td>1200000</td>\n",
       "    </tr>\n",
       "    <tr>\n",
       "      <th>2</th>\n",
       "      <td>Potti</td>\n",
       "      <td>48</td>\n",
       "      <td>2400000</td>\n",
       "    </tr>\n",
       "  </tbody>\n",
       "</table>\n",
       "</div>"
      ],
      "text/plain": [
       "      Name  Age   Salary\n",
       "0   Nikhil   22  1200000\n",
       "1  Sandeep   24  1200000\n",
       "2    Potti   48  2400000"
      ]
     },
     "execution_count": 52,
     "metadata": {},
     "output_type": "execute_result"
    }
   ],
   "source": [
    "data = {\n",
    "    \"Name\": [\"Nikhil\",\"Sandeep\",\"Potti\"],\n",
    "    \"Age\": [22,24,48],\n",
    "    \"Salary\": [1200000,1200000,2400000]\n",
    "}\n",
    "\n",
    "df = pd.DataFrame(data)\n",
    "\n",
    "df.head()"
   ]
  },
  {
   "cell_type": "markdown",
   "metadata": {},
   "source": [
    "# ACCESS"
   ]
  },
  {
   "cell_type": "code",
   "execution_count": 53,
   "metadata": {},
   "outputs": [
    {
     "data": {
      "text/plain": [
       "0     Nikhil\n",
       "1    Sandeep\n",
       "2      Potti\n",
       "Name: Name, dtype: object"
      ]
     },
     "execution_count": 53,
     "metadata": {},
     "output_type": "execute_result"
    }
   ],
   "source": [
    "df['Name']"
   ]
  },
  {
   "cell_type": "code",
   "execution_count": 54,
   "metadata": {},
   "outputs": [
    {
     "data": {
      "text/html": [
       "<div>\n",
       "<style scoped>\n",
       "    .dataframe tbody tr th:only-of-type {\n",
       "        vertical-align: middle;\n",
       "    }\n",
       "\n",
       "    .dataframe tbody tr th {\n",
       "        vertical-align: top;\n",
       "    }\n",
       "\n",
       "    .dataframe thead th {\n",
       "        text-align: right;\n",
       "    }\n",
       "</style>\n",
       "<table border=\"1\" class=\"dataframe\">\n",
       "  <thead>\n",
       "    <tr style=\"text-align: right;\">\n",
       "      <th></th>\n",
       "      <th>Name</th>\n",
       "      <th>Salary</th>\n",
       "    </tr>\n",
       "  </thead>\n",
       "  <tbody>\n",
       "    <tr>\n",
       "      <th>0</th>\n",
       "      <td>Nikhil</td>\n",
       "      <td>1200000</td>\n",
       "    </tr>\n",
       "    <tr>\n",
       "      <th>1</th>\n",
       "      <td>Sandeep</td>\n",
       "      <td>1200000</td>\n",
       "    </tr>\n",
       "    <tr>\n",
       "      <th>2</th>\n",
       "      <td>Potti</td>\n",
       "      <td>2400000</td>\n",
       "    </tr>\n",
       "  </tbody>\n",
       "</table>\n",
       "</div>"
      ],
      "text/plain": [
       "      Name   Salary\n",
       "0   Nikhil  1200000\n",
       "1  Sandeep  1200000\n",
       "2    Potti  2400000"
      ]
     },
     "execution_count": 54,
     "metadata": {},
     "output_type": "execute_result"
    }
   ],
   "source": [
    "df[['Name','Salary']]"
   ]
  },
  {
   "cell_type": "code",
   "execution_count": 55,
   "metadata": {},
   "outputs": [
    {
     "data": {
      "text/html": [
       "<div>\n",
       "<style scoped>\n",
       "    .dataframe tbody tr th:only-of-type {\n",
       "        vertical-align: middle;\n",
       "    }\n",
       "\n",
       "    .dataframe tbody tr th {\n",
       "        vertical-align: top;\n",
       "    }\n",
       "\n",
       "    .dataframe thead th {\n",
       "        text-align: right;\n",
       "    }\n",
       "</style>\n",
       "<table border=\"1\" class=\"dataframe\">\n",
       "  <thead>\n",
       "    <tr style=\"text-align: right;\">\n",
       "      <th></th>\n",
       "      <th>Name</th>\n",
       "      <th>Age</th>\n",
       "      <th>Salary</th>\n",
       "    </tr>\n",
       "  </thead>\n",
       "  <tbody>\n",
       "    <tr>\n",
       "      <th>0</th>\n",
       "      <td>Nikhil</td>\n",
       "      <td>22</td>\n",
       "      <td>1200000</td>\n",
       "    </tr>\n",
       "    <tr>\n",
       "      <th>2</th>\n",
       "      <td>Potti</td>\n",
       "      <td>48</td>\n",
       "      <td>2400000</td>\n",
       "    </tr>\n",
       "  </tbody>\n",
       "</table>\n",
       "</div>"
      ],
      "text/plain": [
       "     Name  Age   Salary\n",
       "0  Nikhil   22  1200000\n",
       "2   Potti   48  2400000"
      ]
     },
     "execution_count": 55,
     "metadata": {},
     "output_type": "execute_result"
    }
   ],
   "source": [
    "df.loc[:3:2] # rows range (start:end)"
   ]
  },
  {
   "cell_type": "code",
   "execution_count": 56,
   "metadata": {},
   "outputs": [
    {
     "data": {
      "text/html": [
       "<div>\n",
       "<style scoped>\n",
       "    .dataframe tbody tr th:only-of-type {\n",
       "        vertical-align: middle;\n",
       "    }\n",
       "\n",
       "    .dataframe tbody tr th {\n",
       "        vertical-align: top;\n",
       "    }\n",
       "\n",
       "    .dataframe thead th {\n",
       "        text-align: right;\n",
       "    }\n",
       "</style>\n",
       "<table border=\"1\" class=\"dataframe\">\n",
       "  <thead>\n",
       "    <tr style=\"text-align: right;\">\n",
       "      <th></th>\n",
       "      <th>Name</th>\n",
       "      <th>Age</th>\n",
       "      <th>Salary</th>\n",
       "    </tr>\n",
       "  </thead>\n",
       "  <tbody>\n",
       "    <tr>\n",
       "      <th>0</th>\n",
       "      <td>Nikhil</td>\n",
       "      <td>22</td>\n",
       "      <td>1200000</td>\n",
       "    </tr>\n",
       "    <tr>\n",
       "      <th>2</th>\n",
       "      <td>Potti</td>\n",
       "      <td>48</td>\n",
       "      <td>2400000</td>\n",
       "    </tr>\n",
       "  </tbody>\n",
       "</table>\n",
       "</div>"
      ],
      "text/plain": [
       "     Name  Age   Salary\n",
       "0  Nikhil   22  1200000\n",
       "2   Potti   48  2400000"
      ]
     },
     "execution_count": 56,
     "metadata": {},
     "output_type": "execute_result"
    }
   ],
   "source": [
    "df.iloc[0:3:2]"
   ]
  },
  {
   "cell_type": "code",
   "execution_count": 57,
   "metadata": {},
   "outputs": [
    {
     "data": {
      "text/html": [
       "<div>\n",
       "<style scoped>\n",
       "    .dataframe tbody tr th:only-of-type {\n",
       "        vertical-align: middle;\n",
       "    }\n",
       "\n",
       "    .dataframe tbody tr th {\n",
       "        vertical-align: top;\n",
       "    }\n",
       "\n",
       "    .dataframe thead th {\n",
       "        text-align: right;\n",
       "    }\n",
       "</style>\n",
       "<table border=\"1\" class=\"dataframe\">\n",
       "  <thead>\n",
       "    <tr style=\"text-align: right;\">\n",
       "      <th></th>\n",
       "      <th>Name</th>\n",
       "      <th>Age</th>\n",
       "    </tr>\n",
       "  </thead>\n",
       "  <tbody>\n",
       "    <tr>\n",
       "      <th>0</th>\n",
       "      <td>Nikhil</td>\n",
       "      <td>22</td>\n",
       "    </tr>\n",
       "  </tbody>\n",
       "</table>\n",
       "</div>"
      ],
      "text/plain": [
       "     Name  Age\n",
       "0  Nikhil   22"
      ]
     },
     "execution_count": 57,
     "metadata": {},
     "output_type": "execute_result"
    }
   ],
   "source": [
    "df[df['Name'] == \"Nikhil\"][[\"Name\",\"Age\"]]"
   ]
  },
  {
   "cell_type": "code",
   "execution_count": 58,
   "metadata": {},
   "outputs": [
    {
     "name": "stdout",
     "output_type": "stream",
     "text": [
      "      Name  Age   Salary\n",
      "0   Nikhil   22  1200000\n",
      "1  Sandeep   24  1200000\n",
      "2    Potti   48  2400000\n"
     ]
    }
   ],
   "source": [
    "print(df)"
   ]
  },
  {
   "cell_type": "markdown",
   "metadata": {},
   "source": [
    "<div style=\"background-color: #FFFFE0; padding: 10px; border: 1px solid #ddd;\">\n",
    "  <p style=\"color: #333333;\"><b>Column & Row Operations</b></p>\n",
    "</div>"
   ]
  },
  {
   "cell_type": "code",
   "execution_count": 59,
   "metadata": {},
   "outputs": [
    {
     "data": {
      "text/html": [
       "<div>\n",
       "<style scoped>\n",
       "    .dataframe tbody tr th:only-of-type {\n",
       "        vertical-align: middle;\n",
       "    }\n",
       "\n",
       "    .dataframe tbody tr th {\n",
       "        vertical-align: top;\n",
       "    }\n",
       "\n",
       "    .dataframe thead th {\n",
       "        text-align: right;\n",
       "    }\n",
       "</style>\n",
       "<table border=\"1\" class=\"dataframe\">\n",
       "  <thead>\n",
       "    <tr style=\"text-align: right;\">\n",
       "      <th></th>\n",
       "      <th>Age</th>\n",
       "      <th>Salary</th>\n",
       "      <th>Role</th>\n",
       "    </tr>\n",
       "    <tr>\n",
       "      <th>Name</th>\n",
       "      <th></th>\n",
       "      <th></th>\n",
       "      <th></th>\n",
       "    </tr>\n",
       "  </thead>\n",
       "  <tbody>\n",
       "    <tr>\n",
       "      <th>Nikhil</th>\n",
       "      <td>22</td>\n",
       "      <td>1200000</td>\n",
       "      <td>AI Engineer</td>\n",
       "    </tr>\n",
       "    <tr>\n",
       "      <th>Sandeep</th>\n",
       "      <td>24</td>\n",
       "      <td>1200000</td>\n",
       "      <td>Data Scientist</td>\n",
       "    </tr>\n",
       "    <tr>\n",
       "      <th>Potti</th>\n",
       "      <td>48</td>\n",
       "      <td>2400000</td>\n",
       "      <td>MLOPS Developer</td>\n",
       "    </tr>\n",
       "  </tbody>\n",
       "</table>\n",
       "</div>"
      ],
      "text/plain": [
       "         Age   Salary             Role\n",
       "Name                                  \n",
       "Nikhil    22  1200000      AI Engineer\n",
       "Sandeep   24  1200000   Data Scientist\n",
       "Potti     48  2400000  MLOPS Developer"
      ]
     },
     "execution_count": 59,
     "metadata": {},
     "output_type": "execute_result"
    }
   ],
   "source": [
    "# 1. ⁡⁣⁣⁢Add new column⁡\n",
    "\n",
    "df['Role'] = [\"AI Engineer\", \"Data Scientist\", \"MLOPS Developer\"]\n",
    "df['Company'] = [\"C\",\"C\",\"C\"]\n",
    "\n",
    "# 2. Modify a column\n",
    "\n",
    "df[\"Age\"] = df[\"Age\"] + 1\n",
    "\n",
    "# 3. Delete a Column\n",
    "df.drop(labels=\"Company\", axis=1, inplace=True)\n",
    "\n",
    "def func(row):\n",
    "    row['Age'] = row['Age'] - 1\n",
    "    return row\n",
    "\n",
    "# 4. Apply the function to each row\n",
    "df = df.apply(func, axis=1)\n",
    "\n",
    "# 5. Rename a Column\n",
    "df.rename(columns={'Name':'name'}, inplace=True)\n",
    "df.rename(columns={'name':'Name'}, inplace=True)\n",
    "\n",
    "\n",
    "# 6. Reset index after row operations\n",
    "df.reset_index(drop=True, inplace=True) \n",
    "\n",
    "# 7. Set a column as index\n",
    "df.set_index('Name', inplace=True)\n",
    "\n",
    "\n",
    "# 8. Sort DataFrame by multiple columns\n",
    "df.sort_values(by=['Age','Salary'], ascending=[True, False])\n",
    "\n",
    "\n",
    "df.head()"
   ]
  },
  {
   "cell_type": "code",
   "execution_count": null,
   "metadata": {},
   "outputs": [],
   "source": [
    "import pandas as pd\n",
    "\n",
    "# Create two sample DataFrames\n",
    "df1 = pd.DataFrame({\n",
    "    'A': ['A0', 'A1', 'A2', 'A3'],\n",
    "    'B': ['B0', 'B1', 'B2', 'B3'],\n",
    "    'C': ['C0', 'C1', 'C2', 'C3'],\n",
    "    'D': ['D0', 'D1', 'D2', 'D3']\n",
    "})\n",
    "\n",
    "df2 = pd.DataFrame({\n",
    "    'A': ['A0', 'A1', 'A4', 'A5'],\n",
    "    'B': ['B0', 'B1', 'B4', 'B5'],\n",
    "    'E': ['E0', 'E1', 'E4', 'E5'],\n",
    "    'F': ['F0', 'F1', 'F4', 'F5']\n",
    "})\n",
    "\n",
    "# 1. Inner join two DataFrames on a column\n",
    "print(\"Inner Join:\")\n",
    "print(df1.merge(df2, on='A', how='inner'))\n",
    "\n",
    "# 2. Left join (retain all rows from the left DataFrame)\n",
    "print(\"\\nLeft Join:\")\n",
    "print(df1.merge(df2, on='A', how='left'))\n",
    "\n",
    "# 3. Right join (retain all rows from the right DataFrame)\n",
    "print(\"\\nRight Join:\")\n",
    "print(df1.merge(df2, on='A', how='right'))\n",
    "\n",
    "# 4. Outer join (retain all rows from both DataFrames)\n",
    "print(\"\\nOuter Join:\")\n",
    "print(df1.merge(df2, on='A', how='outer'))\n",
    "\n",
    "# 5. Merge on multiple columns\n",
    "print(\"\\nMerge on Multiple Columns:\")\n",
    "print(df1.merge(df2, on=['A', 'B'], how='inner'))\n",
    "\n",
    "# 6. Merge with suffixes for overlapping column names\n",
    "print(\"\\nMerge with Suffixes:\")\n",
    "print(df1.merge(df2, on='A', suffixes=('_left', '_right'), how='inner'))\n",
    "\n",
    "# 7. Join DataFrames by index (default join type is left)\n",
    "print(\"\\nJoin by Index:\")\n",
    "print(df1.set_index('A').join(df2.set_index('A')))\n",
    "\n",
    "# 8. Join on multiple indexes\n",
    "print(\"\\nJoin on Multiple Indexes:\")\n",
    "print(df1.set_index(['A', 'B']).join(df2.set_index(['A', 'B'])))\n",
    "\n",
    "# 9. Concatenate two DataFrames along rows (vertical concatenation)\n",
    "print(\"\\nConcatenate Vertically:\")\n",
    "print(pd.concat([df1, df2], axis=0))\n",
    "\n",
    "# 10. Concatenate two DataFrames along columns (horizontal concatenation)\n",
    "print(\"\\nConcatenate Horizontally:\")\n",
    "print(pd.concat([df1, df2], axis=1))\n",
    "\n",
    "# 11. Concatenate DataFrames with different columns\n",
    "print(\"\\nConcatenate with Different Columns:\")\n",
    "print(pd.concat([df1, df2], axis=0, ignore_index=True))\n",
    "\n",
    "# 12. Concatenate with keys (for hierarchical indexing)\n",
    "print(\"\\nConcatenate with Keys:\")\n",
    "print(pd.concat([df1, df2], axis=0, keys=['df1', 'df2']))"
   ]
  },
  {
   "cell_type": "code",
   "execution_count": 61,
   "metadata": {},
   "outputs": [
    {
     "data": {
      "text/html": [
       "<div>\n",
       "<style scoped>\n",
       "    .dataframe tbody tr th:only-of-type {\n",
       "        vertical-align: middle;\n",
       "    }\n",
       "\n",
       "    .dataframe tbody tr th {\n",
       "        vertical-align: top;\n",
       "    }\n",
       "\n",
       "    .dataframe thead th {\n",
       "        text-align: right;\n",
       "    }\n",
       "</style>\n",
       "<table border=\"1\" class=\"dataframe\">\n",
       "  <thead>\n",
       "    <tr style=\"text-align: right;\">\n",
       "      <th></th>\n",
       "      <th>Age</th>\n",
       "      <th>Salary</th>\n",
       "      <th>Role</th>\n",
       "    </tr>\n",
       "    <tr>\n",
       "      <th>Name</th>\n",
       "      <th></th>\n",
       "      <th></th>\n",
       "      <th></th>\n",
       "    </tr>\n",
       "  </thead>\n",
       "  <tbody>\n",
       "    <tr>\n",
       "      <th>Nikhil</th>\n",
       "      <td>22</td>\n",
       "      <td>1200000</td>\n",
       "      <td>AI Engineer</td>\n",
       "    </tr>\n",
       "    <tr>\n",
       "      <th>Sandeep</th>\n",
       "      <td>24</td>\n",
       "      <td>1200000</td>\n",
       "      <td>Data Scientist</td>\n",
       "    </tr>\n",
       "    <tr>\n",
       "      <th>Potti</th>\n",
       "      <td>48</td>\n",
       "      <td>2400000</td>\n",
       "      <td>MLOPS Developer</td>\n",
       "    </tr>\n",
       "  </tbody>\n",
       "</table>\n",
       "</div>"
      ],
      "text/plain": [
       "         Age   Salary             Role\n",
       "Name                                  \n",
       "Nikhil    22  1200000      AI Engineer\n",
       "Sandeep   24  1200000   Data Scientist\n",
       "Potti     48  2400000  MLOPS Developer"
      ]
     },
     "execution_count": 61,
     "metadata": {},
     "output_type": "execute_result"
    }
   ],
   "source": [
    "df.head()"
   ]
  },
  {
   "cell_type": "markdown",
   "metadata": {},
   "source": [
    "# WINDOW FUNCTION"
   ]
  },
  {
   "cell_type": "code",
   "execution_count": 74,
   "metadata": {},
   "outputs": [
    {
     "name": "stdout",
     "output_type": "stream",
     "text": [
      "         Age   Salary             Role  Rolling_Avg  Rolling_Sum  Expanding_Sum\n",
      "Name                                                                           \n",
      "Nikhil    22  1200000      AI Engineer          NaN          NaN            NaN\n",
      "Sandeep   24  1200000   Data Scientist   1200000.00   2400000.00     2400000.00\n",
      "Potti     48  2400000  MLOPS Developer   1800000.00   3600000.00     3600000.00\n",
      "-----------------------------------------------------------------\n",
      "         Age   Salary             Role  Rolling_Avg  Rolling_Sum  Expanding_Sum\n",
      "Name                                                                           \n",
      "Nikhil    22  1200000      AI Engineer          NaN          NaN            NaN\n",
      "Sandeep   24  1200000   Data Scientist   1200000.00   2400000.00     2400000.00\n",
      "Potti     48  2400000  MLOPS Developer   1800000.00   3600000.00     3600000.00\n",
      "-----------------------------------------------------------------\n",
      "         Age   Salary             Role  Rolling_Avg  Rolling_Sum  Expanding_Sum\n",
      "Name                                                                           \n",
      "Nikhil    22  1200000      AI Engineer          NaN          NaN            NaN\n",
      "Sandeep   24  1200000   Data Scientist   1200000.00   2400000.00     2400000.00\n",
      "Potti     48  2400000  MLOPS Developer   1800000.00   3600000.00     3600000.00\n",
      "-----------------------------------------------------------------\n",
      "         Age   Salary             Role  Rolling_Avg  Rolling_Sum  Expanding_Sum  Exponentially_Weighted_Moving_Average\n",
      "Name                                                                                                                  \n",
      "Nikhil    22  1200000      AI Engineer          NaN          NaN            NaN                             1200000.00\n",
      "Sandeep   24  1200000   Data Scientist   1200000.00   2400000.00     2400000.00                             1200000.00\n",
      "Potti     48  2400000  MLOPS Developer   1800000.00   3600000.00     3600000.00                             2030769.23\n"
     ]
    }
   ],
   "source": [
    "df[\"Rolling_Avg\"] = df['Salary'].rolling(window=2).mean()\n",
    "print(df)\n",
    "print(\"-\" * 65)\n",
    "df[\"Rolling_Sum\"] = df[\"Salary\"].rolling(window=2).sum()\n",
    "print(df)\n",
    "print(\"-\" * 65)\n",
    "df[\"Expanding_Sum\"] = df['Salary'].rolling(window=2).sum()\n",
    "print(df)\n",
    "print(\"-\"*65)\n",
    "df[\"Exponentially_Weighted_Moving_Average\"] = df['Salary'].ewm(span=2).mean()\n",
    "print(df)\n"
   ]
  },
  {
   "cell_type": "markdown",
   "metadata": {},
   "source": [
    "<div style=\"background-color: #FFFFE0; padding: 10px; border: 1px solid #ddd;\">\n",
    "  <p style=\"color: #333333;\"><b>Concat DFs</b></p>\n",
    "</div>"
   ]
  },
  {
   "cell_type": "code",
   "execution_count": 77,
   "metadata": {},
   "outputs": [],
   "source": [
    "df1 = pd.DataFrame({\n",
    "    'A': [1, 2, 3],\n",
    "    'B': ['a', 'b', 'c'],\n",
    "    'C': [10, 20, 30]\n",
    "})\n",
    "\n",
    "df2 = pd.DataFrame({\n",
    "    'A': [4, 5, 6],\n",
    "    'B': ['d', 'e', 'f'],\n",
    "    'D': [40, 50, 60]\n",
    "})"
   ]
  },
  {
   "cell_type": "code",
   "execution_count": 82,
   "metadata": {},
   "outputs": [],
   "source": [
    "# 1. along rows (axis=0)\n",
    "df_new = pd.concat([df1, df2], axis=0)\n",
    "\n",
    "# 2. along columns (axis=1)\n",
    "df_new = pd.concat([df1,df2], axis=1)\n",
    "\n",
    "# 3. Ignore index\n",
    "df_new = pd.concat([df1,df2], axis=0, ignore_index=True)\n",
    "\n",
    "# 4. Concat keys for heirarchial indexing\n",
    "df_new = pd.concat([df1,df2], axis=0, keys=['df1','df2'])\n",
    "\n",
    "# 5. Concatenate DataFrames with different columns\n",
    "df_new = pd.concat([df1, df2], axis=1, join='outer')\n",
    "\n",
    "\n"
   ]
  },
  {
   "cell_type": "code",
   "execution_count": 83,
   "metadata": {},
   "outputs": [
    {
     "data": {
      "text/html": [
       "<div>\n",
       "<style scoped>\n",
       "    .dataframe tbody tr th:only-of-type {\n",
       "        vertical-align: middle;\n",
       "    }\n",
       "\n",
       "    .dataframe tbody tr th {\n",
       "        vertical-align: top;\n",
       "    }\n",
       "\n",
       "    .dataframe thead th {\n",
       "        text-align: right;\n",
       "    }\n",
       "</style>\n",
       "<table border=\"1\" class=\"dataframe\">\n",
       "  <thead>\n",
       "    <tr style=\"text-align: right;\">\n",
       "      <th></th>\n",
       "      <th>A</th>\n",
       "      <th>B</th>\n",
       "      <th>C</th>\n",
       "      <th>A</th>\n",
       "      <th>B</th>\n",
       "      <th>D</th>\n",
       "    </tr>\n",
       "  </thead>\n",
       "  <tbody>\n",
       "    <tr>\n",
       "      <th>0</th>\n",
       "      <td>1</td>\n",
       "      <td>a</td>\n",
       "      <td>10</td>\n",
       "      <td>4</td>\n",
       "      <td>d</td>\n",
       "      <td>40</td>\n",
       "    </tr>\n",
       "    <tr>\n",
       "      <th>1</th>\n",
       "      <td>2</td>\n",
       "      <td>b</td>\n",
       "      <td>20</td>\n",
       "      <td>5</td>\n",
       "      <td>e</td>\n",
       "      <td>50</td>\n",
       "    </tr>\n",
       "    <tr>\n",
       "      <th>2</th>\n",
       "      <td>3</td>\n",
       "      <td>c</td>\n",
       "      <td>30</td>\n",
       "      <td>6</td>\n",
       "      <td>f</td>\n",
       "      <td>60</td>\n",
       "    </tr>\n",
       "  </tbody>\n",
       "</table>\n",
       "</div>"
      ],
      "text/plain": [
       "   A  B   C  A  B   D\n",
       "0  1  a  10  4  d  40\n",
       "1  2  b  20  5  e  50\n",
       "2  3  c  30  6  f  60"
      ]
     },
     "execution_count": 83,
     "metadata": {},
     "output_type": "execute_result"
    }
   ],
   "source": [
    "df_new"
   ]
  },
  {
   "cell_type": "markdown",
   "metadata": {},
   "source": [
    "<div style=\"background-color: #FFFFE0; padding: 10px; border: 1px solid #ddd;\">\n",
    "  <p style=\"color: #333333;\"><b>Aggregate & group by</b></p>\n",
    "</div>"
   ]
  },
  {
   "cell_type": "code",
   "execution_count": 88,
   "metadata": {},
   "outputs": [],
   "source": [
    "df = pd.DataFrame({\n",
    "    'Store': ['A', 'A', 'B', 'B', 'C', 'C', 'C'],\n",
    "    'Product': ['Apple', 'Banana', 'Apple', 'Banana', 'Apple', 'Banana', 'Apple'],\n",
    "    'Sales': [100, 150, 200, 250, 300, 350, 400],\n",
    "    'Quantity': [10, 15, 20, 25, 30, 35, 40]\n",
    "})"
   ]
  },
  {
   "cell_type": "code",
   "execution_count": 89,
   "metadata": {},
   "outputs": [
    {
     "data": {
      "text/html": [
       "<div>\n",
       "<style scoped>\n",
       "    .dataframe tbody tr th:only-of-type {\n",
       "        vertical-align: middle;\n",
       "    }\n",
       "\n",
       "    .dataframe tbody tr th {\n",
       "        vertical-align: top;\n",
       "    }\n",
       "\n",
       "    .dataframe thead th {\n",
       "        text-align: right;\n",
       "    }\n",
       "</style>\n",
       "<table border=\"1\" class=\"dataframe\">\n",
       "  <thead>\n",
       "    <tr style=\"text-align: right;\">\n",
       "      <th></th>\n",
       "      <th>Sales</th>\n",
       "      <th>Quantity</th>\n",
       "    </tr>\n",
       "    <tr>\n",
       "      <th>Store</th>\n",
       "      <th></th>\n",
       "      <th></th>\n",
       "    </tr>\n",
       "  </thead>\n",
       "  <tbody>\n",
       "    <tr>\n",
       "      <th>A</th>\n",
       "      <td>250</td>\n",
       "      <td>25</td>\n",
       "    </tr>\n",
       "    <tr>\n",
       "      <th>B</th>\n",
       "      <td>450</td>\n",
       "      <td>45</td>\n",
       "    </tr>\n",
       "    <tr>\n",
       "      <th>C</th>\n",
       "      <td>1050</td>\n",
       "      <td>105</td>\n",
       "    </tr>\n",
       "  </tbody>\n",
       "</table>\n",
       "</div>"
      ],
      "text/plain": [
       "       Sales  Quantity\n",
       "Store                 \n",
       "A        250        25\n",
       "B        450        45\n",
       "C       1050       105"
      ]
     },
     "execution_count": 89,
     "metadata": {},
     "output_type": "execute_result"
    }
   ],
   "source": [
    "# 1. Single Column\n",
    "df_grouped = df.groupby('Store')[['Sales','Quantity']].sum()\n",
    "df_grouped"
   ]
  },
  {
   "cell_type": "code",
   "execution_count": 91,
   "metadata": {},
   "outputs": [
    {
     "data": {
      "text/html": [
       "<div>\n",
       "<style scoped>\n",
       "    .dataframe tbody tr th:only-of-type {\n",
       "        vertical-align: middle;\n",
       "    }\n",
       "\n",
       "    .dataframe tbody tr th {\n",
       "        vertical-align: top;\n",
       "    }\n",
       "\n",
       "    .dataframe thead th {\n",
       "        text-align: right;\n",
       "    }\n",
       "</style>\n",
       "<table border=\"1\" class=\"dataframe\">\n",
       "  <thead>\n",
       "    <tr style=\"text-align: right;\">\n",
       "      <th></th>\n",
       "      <th></th>\n",
       "      <th>Sales</th>\n",
       "      <th>Quantity</th>\n",
       "    </tr>\n",
       "    <tr>\n",
       "      <th>Store</th>\n",
       "      <th>Product</th>\n",
       "      <th></th>\n",
       "      <th></th>\n",
       "    </tr>\n",
       "  </thead>\n",
       "  <tbody>\n",
       "    <tr>\n",
       "      <th rowspan=\"2\" valign=\"top\">A</th>\n",
       "      <th>Apple</th>\n",
       "      <td>100</td>\n",
       "      <td>10</td>\n",
       "    </tr>\n",
       "    <tr>\n",
       "      <th>Banana</th>\n",
       "      <td>150</td>\n",
       "      <td>15</td>\n",
       "    </tr>\n",
       "    <tr>\n",
       "      <th rowspan=\"2\" valign=\"top\">B</th>\n",
       "      <th>Apple</th>\n",
       "      <td>200</td>\n",
       "      <td>20</td>\n",
       "    </tr>\n",
       "    <tr>\n",
       "      <th>Banana</th>\n",
       "      <td>250</td>\n",
       "      <td>25</td>\n",
       "    </tr>\n",
       "    <tr>\n",
       "      <th rowspan=\"2\" valign=\"top\">C</th>\n",
       "      <th>Apple</th>\n",
       "      <td>700</td>\n",
       "      <td>70</td>\n",
       "    </tr>\n",
       "    <tr>\n",
       "      <th>Banana</th>\n",
       "      <td>350</td>\n",
       "      <td>35</td>\n",
       "    </tr>\n",
       "  </tbody>\n",
       "</table>\n",
       "</div>"
      ],
      "text/plain": [
       "               Sales  Quantity\n",
       "Store Product                 \n",
       "A     Apple      100        10\n",
       "      Banana     150        15\n",
       "B     Apple      200        20\n",
       "      Banana     250        25\n",
       "C     Apple      700        70\n",
       "      Banana     350        35"
      ]
     },
     "execution_count": 91,
     "metadata": {},
     "output_type": "execute_result"
    }
   ],
   "source": [
    "# 2. multiple Cols\n",
    "\n",
    "df_grouped = df.groupby([\"Store\", \"Product\"])[[\"Sales\", \"Quantity\"]].sum()\n",
    "df_grouped"
   ]
  },
  {
   "cell_type": "code",
   "execution_count": 92,
   "metadata": {},
   "outputs": [
    {
     "data": {
      "text/plain": [
       "Store\n",
       "A     50\n",
       "B     50\n",
       "C    100\n",
       "Name: Sales, dtype: int64"
      ]
     },
     "execution_count": 92,
     "metadata": {},
     "output_type": "execute_result"
    }
   ],
   "source": [
    "# 3. Custom Function\n",
    "\n",
    "df_grouped_custom = df.groupby('Store')['Sales'].apply(lambda x: x.max() - x.min())\n",
    "df_grouped_custom"
   ]
  },
  {
   "cell_type": "code",
   "execution_count": 93,
   "metadata": {},
   "outputs": [
    {
     "data": {
      "text/html": [
       "<div>\n",
       "<style scoped>\n",
       "    .dataframe tbody tr th:only-of-type {\n",
       "        vertical-align: middle;\n",
       "    }\n",
       "\n",
       "    .dataframe tbody tr th {\n",
       "        vertical-align: top;\n",
       "    }\n",
       "\n",
       "    .dataframe thead tr th {\n",
       "        text-align: left;\n",
       "    }\n",
       "\n",
       "    .dataframe thead tr:last-of-type th {\n",
       "        text-align: right;\n",
       "    }\n",
       "</style>\n",
       "<table border=\"1\" class=\"dataframe\">\n",
       "  <thead>\n",
       "    <tr>\n",
       "      <th></th>\n",
       "      <th colspan=\"3\" halign=\"left\">Sales</th>\n",
       "      <th>Quantity</th>\n",
       "    </tr>\n",
       "    <tr>\n",
       "      <th></th>\n",
       "      <th>mean</th>\n",
       "      <th>sum</th>\n",
       "      <th>count</th>\n",
       "      <th>sum</th>\n",
       "    </tr>\n",
       "    <tr>\n",
       "      <th>Store</th>\n",
       "      <th></th>\n",
       "      <th></th>\n",
       "      <th></th>\n",
       "      <th></th>\n",
       "    </tr>\n",
       "  </thead>\n",
       "  <tbody>\n",
       "    <tr>\n",
       "      <th>A</th>\n",
       "      <td>125.00</td>\n",
       "      <td>250</td>\n",
       "      <td>2</td>\n",
       "      <td>25</td>\n",
       "    </tr>\n",
       "    <tr>\n",
       "      <th>B</th>\n",
       "      <td>225.00</td>\n",
       "      <td>450</td>\n",
       "      <td>2</td>\n",
       "      <td>45</td>\n",
       "    </tr>\n",
       "    <tr>\n",
       "      <th>C</th>\n",
       "      <td>350.00</td>\n",
       "      <td>1050</td>\n",
       "      <td>3</td>\n",
       "      <td>105</td>\n",
       "    </tr>\n",
       "  </tbody>\n",
       "</table>\n",
       "</div>"
      ],
      "text/plain": [
       "       Sales             Quantity\n",
       "        mean   sum count      sum\n",
       "Store                            \n",
       "A     125.00   250     2       25\n",
       "B     225.00   450     2       45\n",
       "C     350.00  1050     3      105"
      ]
     },
     "execution_count": 93,
     "metadata": {},
     "output_type": "execute_result"
    }
   ],
   "source": [
    "# 4. Custom Aggregation\n",
    "\n",
    "df_agg = df.groupby('Store').agg({\n",
    "    'Sales': ['mean', 'sum', 'count'],\n",
    "    'Quantity': 'sum'\n",
    "})\n",
    "\n",
    "df_agg"
   ]
  },
  {
   "cell_type": "code",
   "execution_count": 94,
   "metadata": {},
   "outputs": [
    {
     "data": {
      "text/html": [
       "<div>\n",
       "<style scoped>\n",
       "    .dataframe tbody tr th:only-of-type {\n",
       "        vertical-align: middle;\n",
       "    }\n",
       "\n",
       "    .dataframe tbody tr th {\n",
       "        vertical-align: top;\n",
       "    }\n",
       "\n",
       "    .dataframe thead th {\n",
       "        text-align: right;\n",
       "    }\n",
       "</style>\n",
       "<table border=\"1\" class=\"dataframe\">\n",
       "  <thead>\n",
       "    <tr style=\"text-align: right;\">\n",
       "      <th></th>\n",
       "      <th>Sales_Sum</th>\n",
       "      <th>Quantity_avg</th>\n",
       "    </tr>\n",
       "    <tr>\n",
       "      <th>Store</th>\n",
       "      <th></th>\n",
       "      <th></th>\n",
       "    </tr>\n",
       "  </thead>\n",
       "  <tbody>\n",
       "    <tr>\n",
       "      <th>A</th>\n",
       "      <td>250</td>\n",
       "      <td>12.50</td>\n",
       "    </tr>\n",
       "    <tr>\n",
       "      <th>B</th>\n",
       "      <td>450</td>\n",
       "      <td>22.50</td>\n",
       "    </tr>\n",
       "    <tr>\n",
       "      <th>C</th>\n",
       "      <td>1050</td>\n",
       "      <td>35.00</td>\n",
       "    </tr>\n",
       "  </tbody>\n",
       "</table>\n",
       "</div>"
      ],
      "text/plain": [
       "       Sales_Sum  Quantity_avg\n",
       "Store                         \n",
       "A            250         12.50\n",
       "B            450         22.50\n",
       "C           1050         35.00"
      ]
     },
     "execution_count": 94,
     "metadata": {},
     "output_type": "execute_result"
    }
   ],
   "source": [
    "# 5. Specific\n",
    "\n",
    "df_agg_cols = df.groupby('Store').agg(\n",
    "    Sales_Sum = ('Sales','sum'),\n",
    "    Quantity_avg=('Quantity','mean')\n",
    ")\n",
    "\n",
    "df_agg_cols"
   ]
  },
  {
   "cell_type": "code",
   "execution_count": 95,
   "metadata": {},
   "outputs": [
    {
     "name": "stdout",
     "output_type": "stream",
     "text": [
      "       Sales  Quantity\n",
      "Store                 \n",
      "A        100        15\n",
      "B        200        25\n",
      "C        300        40\n"
     ]
    }
   ],
   "source": [
    "# 6. first & last value\n",
    "\n",
    "df_first_last = df.groupby('Store').agg({\n",
    "    'Sales': 'first',  # Get the first 'Sales' value\n",
    "    'Quantity': 'last'  # Get the last 'Quantity' value\n",
    "})\n",
    "\n",
    "print(df_first_last)"
   ]
  },
  {
   "cell_type": "code",
   "execution_count": 96,
   "metadata": {},
   "outputs": [
    {
     "name": "stdout",
     "output_type": "stream",
     "text": [
      "  Store  Sales  Quantity\n",
      "0     A    250        25\n",
      "1     B    450        45\n",
      "2     C   1050       105\n"
     ]
    }
   ],
   "source": [
    "# 7. Reset the index after a groupby operation\n",
    "df_grouped_reset = df.groupby('Store').agg({\n",
    "    'Sales': 'sum',\n",
    "    'Quantity': 'sum'\n",
    "}).reset_index()\n",
    "\n",
    "print(df_grouped_reset)\n"
   ]
  },
  {
   "cell_type": "markdown",
   "metadata": {},
   "source": [
    "# NLargest"
   ]
  },
  {
   "cell_type": "code",
   "execution_count": 97,
   "metadata": {},
   "outputs": [
    {
     "name": "stdout",
     "output_type": "stream",
     "text": [
      "  Store  Sales  Quantity\n",
      "5     C    350        35\n",
      "2     C    300        30\n"
     ]
    }
   ],
   "source": [
    "df = pd.DataFrame({\n",
    "    'Store': ['A', 'B', 'C', 'A', 'B', 'C'],\n",
    "    'Sales': [100, 200, 300, 150, 250, 350],\n",
    "    'Quantity': [10, 20, 30, 15, 25, 35]\n",
    "})\n",
    "\n",
    "# Get the top 2 rows based on 'Sales'\n",
    "df_top2_sales = df.nlargest(2, 'Sales')\n",
    "\n",
    "print(df_top2_sales)"
   ]
  },
  {
   "cell_type": "code",
   "execution_count": 98,
   "metadata": {},
   "outputs": [
    {
     "name": "stdout",
     "output_type": "stream",
     "text": [
      "  Store  Sales  Quantity\n",
      "5     C    350        35\n",
      "2     C    300        30\n",
      "4     B    250        25\n",
      "1     B    200        20\n",
      "3     A    150        15\n",
      "0     A    100        10\n"
     ]
    }
   ],
   "source": [
    "# Sort by 'Sales' in descending order and then by 'Quantity' in ascending order\n",
    "df_sorted_multi = df.sort_values(by=['Sales', 'Quantity'], ascending=[False, True])\n",
    "\n",
    "print(df_sorted_multi)\n"
   ]
  },
  {
   "cell_type": "code",
   "execution_count": 99,
   "metadata": {},
   "outputs": [
    {
     "name": "stdout",
     "output_type": "stream",
     "text": [
      "  Store  Sales  Quantity\n",
      "0     A    100        10\n",
      "1     B    200        20\n",
      "2     C    300        30\n"
     ]
    }
   ],
   "source": [
    "# DataFrame with duplicate rows\n",
    "df_dup = pd.DataFrame({\n",
    "    'Store': ['A', 'B', 'C', 'A', 'B', 'C'],\n",
    "    'Sales': [100, 200, 300, 100, 200, 300],\n",
    "    'Quantity': [10, 20, 30, 10, 20, 30]\n",
    "})\n",
    "\n",
    "# Remove duplicates based on 'Store' and 'Sales'\n",
    "df_no_dup = df_dup.drop_duplicates(subset=['Store', 'Sales'])\n",
    "\n",
    "print(df_no_dup)\n"
   ]
  },
  {
   "cell_type": "code",
   "execution_count": 100,
   "metadata": {},
   "outputs": [
    {
     "name": "stdout",
     "output_type": "stream",
     "text": [
      "  Store  Sales  Quantity\n",
      "1     B    200        20\n",
      "2     C    300        30\n",
      "4     B    250        25\n",
      "5     C    350        35\n"
     ]
    }
   ],
   "source": [
    "# Use query to filter where 'Sales' is greater than 150\n",
    "df_query = df.query('Sales > 150')\n",
    "\n",
    "print(df_query)\n"
   ]
  },
  {
   "cell_type": "code",
   "execution_count": 103,
   "metadata": {},
   "outputs": [
    {
     "name": "stdout",
     "output_type": "stream",
     "text": [
      "Quantity     10     15     20     25     30     35\n",
      "Store                                             \n",
      "A        100.00 150.00    NaN    NaN    NaN    NaN\n",
      "B           NaN    NaN 200.00 250.00    NaN    NaN\n",
      "C           NaN    NaN    NaN    NaN 300.00 350.00\n"
     ]
    }
   ],
   "source": [
    "# Pivot table with 'Store' as rows, 'Product' as columns, and aggregate sales by sum\n",
    "df_pivot_table = df.pivot_table(index='Store', columns='Quantity', values='Sales', aggfunc='sum')\n",
    "\n",
    "print(df_pivot_table)\n"
   ]
  },
  {
   "cell_type": "markdown",
   "metadata": {},
   "source": [
    "# ML"
   ]
  },
  {
   "cell_type": "code",
   "execution_count": 140,
   "metadata": {},
   "outputs": [
    {
     "name": "stdout",
     "output_type": "stream",
     "text": [
      "Numerical Columns: Index(['X1', 'X2', 'Target'], dtype='object')\n",
      "Categorical Columns: ['Category']\n",
      "Mean Squared Error (MSE): 112.35212427247545\n",
      "R-squared (R²): 0.9855696762651559\n",
      "Mean Absolute Error (MAE): 8.514072634593639\n"
     ]
    }
   ],
   "source": [
    "import numpy as np\n",
    "import pandas as pd\n",
    "from sklearn.compose import ColumnTransformer \n",
    "from sklearn.preprocessing import StandardScaler, OneHotEncoder\n",
    "from sklearn.pipeline import Pipeline\n",
    "from sklearn.model_selection import train_test_split\n",
    "from sklearn.linear_model import LinearRegression\n",
    "from sklearn.metrics import mean_squared_error, r2_score, mean_absolute_error\n",
    "from sklearn.model_selection import GridSearchCV\n",
    "\n",
    "# Example data generation\n",
    "np.random.seed(42)\n",
    "\n",
    "# Create a synthetic dataset\n",
    "n_samples = 500\n",
    "X1 = np.random.randn(n_samples)  # Feature 1\n",
    "X2 = np.random.rand(n_samples) * 100  # Feature 2\n",
    "categories = ['A', 'B', 'C']\n",
    "cat_feature = np.random.choice(categories, size=n_samples)\n",
    "y = 2 * X1 + 3 * X2 + np.random.randn(n_samples) * 10  # Target variable\n",
    "\n",
    "# Create the DataFrame\n",
    "df = pd.DataFrame({\n",
    "    'X1': X1,\n",
    "    'X2': X2,\n",
    "    'Category': cat_feature,\n",
    "    'Target': y\n",
    "})\n",
    "\n",
    "# Select numerical columns\n",
    "numerical_cols = df[['X1', 'X2', 'Target']].columns\n",
    "print(\"Numerical Columns:\", numerical_cols)\n",
    "\n",
    "# Select categorical columns\n",
    "categorical_columns = ['Category']\n",
    "print(\"Categorical Columns:\", categorical_columns)\n",
    "\n",
    "# Create preprocessor using ColumnTransformer\n",
    "preprocessor = ColumnTransformer(\n",
    "    transformers=[\n",
    "        ('num', StandardScaler(), numerical_cols[:-1]),  # Scale numerical features X1 and X2 (exclude Target)\n",
    "        ('cat', OneHotEncoder(drop='first'), categorical_columns)  # One-hot encode categorical 'Category'\n",
    "    ]\n",
    ")\n",
    "\n",
    "# Create pipeline with preprocessor and Linear Regression model\n",
    "pipeline = Pipeline(\n",
    "    steps=[\n",
    "        ('preprocessor', preprocessor),\n",
    "        ('model', LinearRegression())\n",
    "    ]\n",
    ")\n",
    "\n",
    "# Split data into training and testing sets\n",
    "X = df.drop(columns=[\"Target\"])  # Features (drop target)\n",
    "y = df[\"Target\"]  # Target variable\n",
    "X_train, X_test, y_train, y_test = train_test_split(X, y, test_size=0.2, random_state=42)\n",
    "\n",
    "# Define hyperparameter tuning space for the linear model\n",
    "param_grid = {\n",
    "    'model__fit_intercept': [True, False]  # Grid search for model's fit_intercept parameter\n",
    "}\n",
    "\n",
    "# Perform hyperparameter tuning using GridSearchCV\n",
    "grid_search = GridSearchCV(pipeline, param_grid, cv=5)\n",
    "grid_search.fit(X_train, y_train)\n",
    "\n",
    "# Get the best-performing model from grid search\n",
    "best_model = grid_search.best_estimator_\n",
    "\n",
    "# Make predictions on the test set\n",
    "y_pred = best_model.predict(X_test)\n",
    "\n",
    "# Evaluate model performance using MSE, R2, and MAE\n",
    "mse = mean_squared_error(y_test, y_pred)\n",
    "r2 = r2_score(y_test, y_pred)\n",
    "mae = mean_absolute_error(y_test, y_pred)\n",
    "\n",
    "# Print the evaluation metrics\n",
    "print(f\"Mean Squared Error (MSE): {mse}\")\n",
    "print(f\"R-squared (R²): {r2}\")\n",
    "print(f\"Mean Absolute Error (MAE): {mae}\")\n"
   ]
  },
  {
   "cell_type": "code",
   "execution_count": null,
   "metadata": {},
   "outputs": [],
   "source": []
  }
 ],
 "metadata": {
  "kernelspec": {
   "display_name": "Python 3",
   "language": "python",
   "name": "python3"
  },
  "language_info": {
   "codemirror_mode": {
    "name": "ipython",
    "version": 3
   },
   "file_extension": ".py",
   "mimetype": "text/x-python",
   "name": "python",
   "nbconvert_exporter": "python",
   "pygments_lexer": "ipython3",
   "version": "3.12.1"
  }
 },
 "nbformat": 4,
 "nbformat_minor": 2
}
